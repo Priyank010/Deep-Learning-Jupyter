{
 "cells": [
  {
   "cell_type": "code",
   "execution_count": 1,
   "metadata": {
    "scrolled": false
   },
   "outputs": [],
   "source": [
    "#Importing libraries\n",
    "import numpy as np\n",
    "import pandas as pd\n",
    "import matplotlib.pyplot as plt\n",
    "import seaborn as sns\n",
    "%matplotlib inline"
   ]
  },
  {
   "cell_type": "code",
   "execution_count": 2,
   "metadata": {
    "scrolled": false
   },
   "outputs": [],
   "source": [
    "#Importing data\n",
    "df_train = pd.read_csv('train.csv')\n",
    "df_test = pd.read_csv('test.csv')"
   ]
  },
  {
   "cell_type": "code",
   "execution_count": 3,
   "metadata": {
    "scrolled": false
   },
   "outputs": [
    {
     "data": {
      "text/plain": [
       "(1460, 81)"
      ]
     },
     "execution_count": 3,
     "metadata": {},
     "output_type": "execute_result"
    }
   ],
   "source": [
    "df_train.shape"
   ]
  },
  {
   "cell_type": "code",
   "execution_count": 4,
   "metadata": {
    "scrolled": false
   },
   "outputs": [
    {
     "data": {
      "text/plain": [
       "(1459, 80)"
      ]
     },
     "execution_count": 4,
     "metadata": {},
     "output_type": "execute_result"
    }
   ],
   "source": [
    "df_test.shape"
   ]
  },
  {
   "cell_type": "code",
   "execution_count": 5,
   "metadata": {
    "scrolled": false
   },
   "outputs": [],
   "source": [
    "n_train = df_train.select_dtypes(include = [np.number])"
   ]
  },
  {
   "cell_type": "code",
   "execution_count": 6,
   "metadata": {
    "scrolled": false
   },
   "outputs": [],
   "source": [
    "n_test = df_test.select_dtypes(include = [np.number])"
   ]
  },
  {
   "cell_type": "code",
   "execution_count": 7,
   "metadata": {},
   "outputs": [
    {
     "data": {
      "text/plain": [
       "Id                 0\n",
       "MSSubClass         0\n",
       "LotFrontage      259\n",
       "LotArea            0\n",
       "OverallQual        0\n",
       "OverallCond        0\n",
       "YearBuilt          0\n",
       "YearRemodAdd       0\n",
       "MasVnrArea         8\n",
       "BsmtFinSF1         0\n",
       "BsmtFinSF2         0\n",
       "BsmtUnfSF          0\n",
       "TotalBsmtSF        0\n",
       "1stFlrSF           0\n",
       "2ndFlrSF           0\n",
       "LowQualFinSF       0\n",
       "GrLivArea          0\n",
       "BsmtFullBath       0\n",
       "BsmtHalfBath       0\n",
       "FullBath           0\n",
       "HalfBath           0\n",
       "BedroomAbvGr       0\n",
       "KitchenAbvGr       0\n",
       "TotRmsAbvGrd       0\n",
       "Fireplaces         0\n",
       "GarageYrBlt       81\n",
       "GarageCars         0\n",
       "GarageArea         0\n",
       "WoodDeckSF         0\n",
       "OpenPorchSF        0\n",
       "EnclosedPorch      0\n",
       "3SsnPorch          0\n",
       "ScreenPorch        0\n",
       "PoolArea           0\n",
       "MiscVal            0\n",
       "MoSold             0\n",
       "YrSold             0\n",
       "SalePrice          0\n",
       "dtype: int64"
      ]
     },
     "execution_count": 7,
     "metadata": {},
     "output_type": "execute_result"
    }
   ],
   "source": [
    "n_train.isnull().sum()"
   ]
  },
  {
   "cell_type": "code",
   "execution_count": 8,
   "metadata": {},
   "outputs": [
    {
     "data": {
      "text/plain": [
       "Id                 0\n",
       "MSSubClass         0\n",
       "LotFrontage      227\n",
       "LotArea            0\n",
       "OverallQual        0\n",
       "OverallCond        0\n",
       "YearBuilt          0\n",
       "YearRemodAdd       0\n",
       "MasVnrArea        15\n",
       "BsmtFinSF1         1\n",
       "BsmtFinSF2         1\n",
       "BsmtUnfSF          1\n",
       "TotalBsmtSF        1\n",
       "1stFlrSF           0\n",
       "2ndFlrSF           0\n",
       "LowQualFinSF       0\n",
       "GrLivArea          0\n",
       "BsmtFullBath       2\n",
       "BsmtHalfBath       2\n",
       "FullBath           0\n",
       "HalfBath           0\n",
       "BedroomAbvGr       0\n",
       "KitchenAbvGr       0\n",
       "TotRmsAbvGrd       0\n",
       "Fireplaces         0\n",
       "GarageYrBlt       78\n",
       "GarageCars         1\n",
       "GarageArea         1\n",
       "WoodDeckSF         0\n",
       "OpenPorchSF        0\n",
       "EnclosedPorch      0\n",
       "3SsnPorch          0\n",
       "ScreenPorch        0\n",
       "PoolArea           0\n",
       "MiscVal            0\n",
       "MoSold             0\n",
       "YrSold             0\n",
       "dtype: int64"
      ]
     },
     "execution_count": 8,
     "metadata": {},
     "output_type": "execute_result"
    }
   ],
   "source": [
    "n_test.isnull().sum()"
   ]
  },
  {
   "cell_type": "code",
   "execution_count": 9,
   "metadata": {},
   "outputs": [
    {
     "name": "stderr",
     "output_type": "stream",
     "text": [
      "C:\\Users\\Priyank\\anaconda3\\lib\\site-packages\\pandas\\core\\generic.py:6746: SettingWithCopyWarning: \n",
      "A value is trying to be set on a copy of a slice from a DataFrame\n",
      "\n",
      "See the caveats in the documentation: https://pandas.pydata.org/pandas-docs/stable/user_guide/indexing.html#returning-a-view-versus-a-copy\n",
      "  self._update_inplace(new_data)\n"
     ]
    }
   ],
   "source": [
    "#Replacing NAN data with mean\n",
    "\n",
    "n_train['LotFrontage'].replace(to_replace=np.nan,value = int(n_train['LotFrontage'].mean()),inplace=True)\n",
    "n_train['MasVnrArea'].replace(to_replace=np.nan,value = int(n_train['MasVnrArea'].mean()),inplace=True)\n",
    "n_train['GarageYrBlt'].replace(to_replace=np.nan,value = int(n_train['GarageYrBlt'].mean()),inplace=True)"
   ]
  },
  {
   "cell_type": "code",
   "execution_count": 10,
   "metadata": {},
   "outputs": [],
   "source": [
    "#Replacing NAN data with mean\n",
    "\n",
    "n_test['LotFrontage'].replace(to_replace=np.nan,value = int(n_test['LotFrontage'].mean()),inplace=True)\n",
    "n_test['MasVnrArea'].replace(to_replace=np.nan,value = int(n_test['MasVnrArea'].mean()),inplace=True)\n",
    "n_test['BsmtFinSF1'].replace(to_replace=np.nan,value = int(n_test['BsmtFinSF1'].mean()),inplace=True)\n",
    "n_test['BsmtFinSF2'].replace(to_replace=np.nan,value = int(n_test['BsmtFinSF2'].mean()),inplace=True)\n",
    "n_test['BsmtUnfSF'].replace(to_replace=np.nan,value = int(n_test['BsmtUnfSF'].mean()),inplace=True)\n",
    "n_test['TotalBsmtSF'].replace(to_replace=np.nan,value = int(n_test['TotalBsmtSF'].mean()),inplace=True)\n",
    "n_test['BsmtFullBath'].replace(to_replace=np.nan,value = int(n_test['BsmtFullBath'].mean()),inplace=True)\n",
    "n_test['BsmtHalfBath'].replace(to_replace=np.nan,value = int(n_test['BsmtHalfBath'].mean()),inplace=True)\n",
    "n_test['GarageYrBlt'].replace(to_replace=np.nan,value = int(n_test['GarageYrBlt'].mean()),inplace=True)\n",
    "n_test['GarageCars'].replace(to_replace=np.nan,value = int(n_test['GarageCars'].mean()),inplace=True)\n",
    "n_test['GarageArea'].replace(to_replace=np.nan,value = int(n_test['GarageArea'].mean()),inplace=True)"
   ]
  },
  {
   "cell_type": "code",
   "execution_count": 11,
   "metadata": {},
   "outputs": [],
   "source": [
    "from sklearn.model_selection import train_test_split\n",
    "X = n_train.drop(['Id','SalePrice'],axis = 1)\n",
    "y = n_train['SalePrice']\n",
    "n_test = n_test.drop(['Id'],axis=1)"
   ]
  },
  {
   "cell_type": "code",
   "execution_count": 12,
   "metadata": {},
   "outputs": [],
   "source": [
    "#Spliting data\n",
    "X_train, X_test, y_train, y_test = train_test_split(X, y, test_size=0.33, random_state=42)"
   ]
  },
  {
   "cell_type": "code",
   "execution_count": 13,
   "metadata": {},
   "outputs": [],
   "source": [
    "#Scaling the dsta\n",
    "\n",
    "from sklearn.preprocessing import MinMaxScaler"
   ]
  },
  {
   "cell_type": "code",
   "execution_count": 14,
   "metadata": {},
   "outputs": [],
   "source": [
    "scaler = MinMaxScaler()"
   ]
  },
  {
   "cell_type": "code",
   "execution_count": 15,
   "metadata": {},
   "outputs": [],
   "source": [
    "X_train = scaler.fit_transform(X_train)\n",
    "X_test = scaler.transform(X_test)\n",
    "n_test = scaler.transform(n_test)"
   ]
  },
  {
   "cell_type": "code",
   "execution_count": 16,
   "metadata": {},
   "outputs": [],
   "source": [
    "from tensorflow.keras.models import Sequential\n",
    "from tensorflow.keras.layers import Dense"
   ]
  },
  {
   "cell_type": "code",
   "execution_count": 17,
   "metadata": {},
   "outputs": [],
   "source": [
    "#Creating model\n",
    "\n",
    "model = Sequential()\n",
    "model.add(Dense(36,activation = 'relu'))\n",
    "model.add(Dense(36,activation = 'relu'))\n",
    "model.add(Dense(36,activation = 'relu'))\n",
    "model.add(Dense(1))\n",
    "\n",
    "model.compile(optimizer = 'adam',loss='mse')"
   ]
  },
  {
   "cell_type": "code",
   "execution_count": 18,
   "metadata": {},
   "outputs": [
    {
     "name": "stdout",
     "output_type": "stream",
     "text": [
      "Epoch 1/200\n",
      "31/31 [==============================] - 0s 12ms/step - loss: 38574526464.0000 - val_loss: 39980642304.0000\n",
      "Epoch 2/200\n",
      "31/31 [==============================] - 0s 3ms/step - loss: 38571872256.0000 - val_loss: 39974506496.0000\n",
      "Epoch 3/200\n",
      "31/31 [==============================] - 0s 2ms/step - loss: 38556614656.0000 - val_loss: 39943880704.0000\n",
      "Epoch 4/200\n",
      "31/31 [==============================] - 0s 2ms/step - loss: 38496636928.0000 - val_loss: 39840215040.0000\n",
      "Epoch 5/200\n",
      "31/31 [==============================] - 0s 3ms/step - loss: 38326222848.0000 - val_loss: 39581130752.0000\n",
      "Epoch 6/200\n",
      "31/31 [==============================] - 0s 3ms/step - loss: 37946884096.0000 - val_loss: 39047573504.0000\n",
      "Epoch 7/200\n",
      "31/31 [==============================] - 0s 2ms/step - loss: 37223985152.0000 - val_loss: 38081105920.0000\n",
      "Epoch 8/200\n",
      "31/31 [==============================] - 0s 2ms/step - loss: 35978457088.0000 - val_loss: 36513243136.0000\n",
      "Epoch 9/200\n",
      "31/31 [==============================] - 0s 2ms/step - loss: 34053187584.0000 - val_loss: 34169616384.0000\n",
      "Epoch 10/200\n",
      "31/31 [==============================] - 0s 2ms/step - loss: 31309367296.0000 - val_loss: 30961311744.0000\n",
      "Epoch 11/200\n",
      "31/31 [==============================] - 0s 2ms/step - loss: 27707994112.0000 - val_loss: 26921418752.0000\n",
      "Epoch 12/200\n",
      "31/31 [==============================] - 0s 3ms/step - loss: 23337572352.0000 - val_loss: 22226442240.0000\n",
      "Epoch 13/200\n",
      "31/31 [==============================] - 0s 4ms/step - loss: 18514386944.0000 - val_loss: 17208328192.0000\n",
      "Epoch 14/200\n",
      "31/31 [==============================] - 0s 4ms/step - loss: 13632244736.0000 - val_loss: 12568001536.0000\n",
      "Epoch 15/200\n",
      "31/31 [==============================] - 0s 6ms/step - loss: 9389034496.0000 - val_loss: 8705534976.0000\n",
      "Epoch 16/200\n",
      "31/31 [==============================] - 0s 3ms/step - loss: 6175234560.0000 - val_loss: 6012083200.0000\n",
      "Epoch 17/200\n",
      "31/31 [==============================] - 0s 3ms/step - loss: 4178474240.0000 - val_loss: 4563691008.0000\n",
      "Epoch 18/200\n",
      "31/31 [==============================] - 0s 2ms/step - loss: 3227714816.0000 - val_loss: 3907422976.0000\n",
      "Epoch 19/200\n",
      "31/31 [==============================] - 0s 3ms/step - loss: 2866695424.0000 - val_loss: 3655811840.0000\n",
      "Epoch 20/200\n",
      "31/31 [==============================] - 0s 3ms/step - loss: 2756465408.0000 - val_loss: 3566866432.0000\n",
      "Epoch 21/200\n",
      "31/31 [==============================] - 0s 2ms/step - loss: 2721073152.0000 - val_loss: 3525891584.0000\n",
      "Epoch 22/200\n",
      "31/31 [==============================] - 0s 3ms/step - loss: 2700613120.0000 - val_loss: 3505544960.0000\n",
      "Epoch 23/200\n",
      "31/31 [==============================] - 0s 2ms/step - loss: 2683752960.0000 - val_loss: 3481795840.0000\n",
      "Epoch 24/200\n",
      "31/31 [==============================] - 0s 3ms/step - loss: 2669124096.0000 - val_loss: 3462313472.0000\n",
      "Epoch 25/200\n",
      "31/31 [==============================] - 0s 2ms/step - loss: 2651102464.0000 - val_loss: 3447014144.0000\n",
      "Epoch 26/200\n",
      "31/31 [==============================] - 0s 2ms/step - loss: 2636189952.0000 - val_loss: 3427214848.0000\n",
      "Epoch 27/200\n",
      "31/31 [==============================] - 0s 3ms/step - loss: 2618405120.0000 - val_loss: 3408368896.0000\n",
      "Epoch 28/200\n",
      "31/31 [==============================] - 0s 2ms/step - loss: 2602287872.0000 - val_loss: 3390632960.0000\n",
      "Epoch 29/200\n",
      "31/31 [==============================] - 0s 2ms/step - loss: 2584993792.0000 - val_loss: 3369520640.0000\n",
      "Epoch 30/200\n",
      "31/31 [==============================] - 0s 2ms/step - loss: 2571875584.0000 - val_loss: 3342359808.0000\n",
      "Epoch 31/200\n",
      "31/31 [==============================] - 0s 2ms/step - loss: 2552243456.0000 - val_loss: 3329133056.0000\n",
      "Epoch 32/200\n",
      "31/31 [==============================] - 0s 2ms/step - loss: 2535333888.0000 - val_loss: 3312189440.0000\n",
      "Epoch 33/200\n",
      "31/31 [==============================] - 0s 2ms/step - loss: 2520732416.0000 - val_loss: 3287879168.0000\n",
      "Epoch 34/200\n",
      "31/31 [==============================] - 0s 2ms/step - loss: 2504021248.0000 - val_loss: 3276146688.0000\n",
      "Epoch 35/200\n",
      "31/31 [==============================] - 0s 2ms/step - loss: 2487403520.0000 - val_loss: 3253857536.0000\n",
      "Epoch 36/200\n",
      "31/31 [==============================] - 0s 2ms/step - loss: 2469071872.0000 - val_loss: 3232079104.0000\n",
      "Epoch 37/200\n",
      "31/31 [==============================] - 0s 2ms/step - loss: 2454395904.0000 - val_loss: 3213029376.0000\n",
      "Epoch 38/200\n",
      "31/31 [==============================] - 0s 2ms/step - loss: 2435724288.0000 - val_loss: 3189923072.0000\n",
      "Epoch 39/200\n",
      "31/31 [==============================] - 0s 2ms/step - loss: 2420169472.0000 - val_loss: 3170877952.0000\n",
      "Epoch 40/200\n",
      "31/31 [==============================] - 0s 2ms/step - loss: 2406878208.0000 - val_loss: 3153014272.0000\n",
      "Epoch 41/200\n",
      "31/31 [==============================] - 0s 2ms/step - loss: 2387802368.0000 - val_loss: 3126665472.0000\n",
      "Epoch 42/200\n",
      "31/31 [==============================] - 0s 2ms/step - loss: 2372343552.0000 - val_loss: 3116956416.0000\n",
      "Epoch 43/200\n",
      "31/31 [==============================] - 0s 3ms/step - loss: 2353193216.0000 - val_loss: 3087920128.0000\n",
      "Epoch 44/200\n",
      "31/31 [==============================] - 0s 2ms/step - loss: 2337634816.0000 - val_loss: 3071808000.0000\n",
      "Epoch 45/200\n",
      "31/31 [==============================] - 0s 2ms/step - loss: 2321902592.0000 - val_loss: 3052470784.0000\n",
      "Epoch 46/200\n",
      "31/31 [==============================] - 0s 2ms/step - loss: 2304984320.0000 - val_loss: 3025509888.0000\n",
      "Epoch 47/200\n",
      "31/31 [==============================] - 0s 2ms/step - loss: 2288687872.0000 - val_loss: 3012935168.0000\n",
      "Epoch 48/200\n",
      "31/31 [==============================] - 0s 3ms/step - loss: 2273694976.0000 - val_loss: 2990220288.0000\n",
      "Epoch 49/200\n",
      "31/31 [==============================] - 0s 2ms/step - loss: 2257146624.0000 - val_loss: 2967399424.0000\n",
      "Epoch 50/200\n",
      "31/31 [==============================] - 0s 2ms/step - loss: 2243065856.0000 - val_loss: 2953382656.0000\n",
      "Epoch 51/200\n",
      "31/31 [==============================] - 0s 2ms/step - loss: 2223951104.0000 - val_loss: 2934584320.0000\n",
      "Epoch 52/200\n",
      "31/31 [==============================] - 0s 2ms/step - loss: 2210857472.0000 - val_loss: 2911106048.0000\n",
      "Epoch 53/200\n",
      "31/31 [==============================] - 0s 2ms/step - loss: 2192285696.0000 - val_loss: 2895458304.0000\n",
      "Epoch 54/200\n",
      "31/31 [==============================] - 0s 3ms/step - loss: 2178249472.0000 - val_loss: 2870400512.0000\n",
      "Epoch 55/200\n",
      "31/31 [==============================] - 0s 2ms/step - loss: 2161433600.0000 - val_loss: 2859018752.0000\n",
      "Epoch 56/200\n",
      "31/31 [==============================] - 0s 2ms/step - loss: 2146860288.0000 - val_loss: 2839394816.0000\n",
      "Epoch 57/200\n",
      "31/31 [==============================] - 0s 2ms/step - loss: 2134148352.0000 - val_loss: 2817547520.0000\n",
      "Epoch 58/200\n",
      "31/31 [==============================] - 0s 2ms/step - loss: 2114705536.0000 - val_loss: 2794630912.0000\n",
      "Epoch 59/200\n",
      "31/31 [==============================] - 0s 2ms/step - loss: 2099905536.0000 - val_loss: 2771455744.0000\n",
      "Epoch 60/200\n",
      "31/31 [==============================] - 0s 2ms/step - loss: 2084996736.0000 - val_loss: 2763413760.0000\n",
      "Epoch 61/200\n",
      "31/31 [==============================] - 0s 2ms/step - loss: 2072059264.0000 - val_loss: 2735012096.0000\n",
      "Epoch 62/200\n",
      "31/31 [==============================] - 0s 2ms/step - loss: 2054215040.0000 - val_loss: 2716811520.0000\n",
      "Epoch 63/200\n",
      "31/31 [==============================] - 0s 2ms/step - loss: 2039060736.0000 - val_loss: 2693644032.0000\n",
      "Epoch 64/200\n",
      "31/31 [==============================] - 0s 2ms/step - loss: 2026087296.0000 - val_loss: 2676075520.0000\n",
      "Epoch 65/200\n",
      "31/31 [==============================] - 0s 2ms/step - loss: 2008256512.0000 - val_loss: 2664910848.0000\n",
      "Epoch 66/200\n",
      "31/31 [==============================] - 0s 2ms/step - loss: 1995536768.0000 - val_loss: 2643223808.0000\n",
      "Epoch 67/200\n",
      "31/31 [==============================] - 0s 2ms/step - loss: 1979847424.0000 - val_loss: 2624230912.0000\n",
      "Epoch 68/200\n",
      "31/31 [==============================] - 0s 2ms/step - loss: 1965653504.0000 - val_loss: 2608989696.0000\n",
      "Epoch 69/200\n",
      "31/31 [==============================] - 0s 2ms/step - loss: 1953196544.0000 - val_loss: 2579886080.0000\n",
      "Epoch 70/200\n"
     ]
    },
    {
     "name": "stdout",
     "output_type": "stream",
     "text": [
      "31/31 [==============================] - 0s 2ms/step - loss: 1939921280.0000 - val_loss: 2571720448.0000\n",
      "Epoch 71/200\n",
      "31/31 [==============================] - 0s 2ms/step - loss: 1921960704.0000 - val_loss: 2544420608.0000\n",
      "Epoch 72/200\n",
      "31/31 [==============================] - 0s 2ms/step - loss: 1909481344.0000 - val_loss: 2531557632.0000\n",
      "Epoch 73/200\n",
      "31/31 [==============================] - 0s 2ms/step - loss: 1895264640.0000 - val_loss: 2513945344.0000\n",
      "Epoch 74/200\n",
      "31/31 [==============================] - 0s 2ms/step - loss: 1883390720.0000 - val_loss: 2497225728.0000\n",
      "Epoch 75/200\n",
      "31/31 [==============================] - 0s 2ms/step - loss: 1871561984.0000 - val_loss: 2475099648.0000\n",
      "Epoch 76/200\n",
      "31/31 [==============================] - 0s 2ms/step - loss: 1855086080.0000 - val_loss: 2470020096.0000\n",
      "Epoch 77/200\n",
      "31/31 [==============================] - 0s 2ms/step - loss: 1841815296.0000 - val_loss: 2442399232.0000\n",
      "Epoch 78/200\n",
      "31/31 [==============================] - 0s 3ms/step - loss: 1832156928.0000 - val_loss: 2422105344.0000\n",
      "Epoch 79/200\n",
      "31/31 [==============================] - 0s 3ms/step - loss: 1816071168.0000 - val_loss: 2412448256.0000\n",
      "Epoch 80/200\n",
      "31/31 [==============================] - 0s 2ms/step - loss: 1807341184.0000 - val_loss: 2385922560.0000\n",
      "Epoch 81/200\n",
      "31/31 [==============================] - 0s 2ms/step - loss: 1790873472.0000 - val_loss: 2373754624.0000\n",
      "Epoch 82/200\n",
      "31/31 [==============================] - 0s 2ms/step - loss: 1779589888.0000 - val_loss: 2361094400.0000\n",
      "Epoch 83/200\n",
      "31/31 [==============================] - 0s 4ms/step - loss: 1766707328.0000 - val_loss: 2338113792.0000\n",
      "Epoch 84/200\n",
      "31/31 [==============================] - 0s 5ms/step - loss: 1754726656.0000 - val_loss: 2327399424.0000\n",
      "Epoch 85/200\n",
      "31/31 [==============================] - 0s 3ms/step - loss: 1743639040.0000 - val_loss: 2303431424.0000\n",
      "Epoch 86/200\n",
      "31/31 [==============================] - 0s 2ms/step - loss: 1735385728.0000 - val_loss: 2301995008.0000\n",
      "Epoch 87/200\n",
      "31/31 [==============================] - 0s 2ms/step - loss: 1719870720.0000 - val_loss: 2267153664.0000\n",
      "Epoch 88/200\n",
      "31/31 [==============================] - 0s 2ms/step - loss: 1708617344.0000 - val_loss: 2261836032.0000\n",
      "Epoch 89/200\n",
      "31/31 [==============================] - 0s 2ms/step - loss: 1699497216.0000 - val_loss: 2247521280.0000\n",
      "Epoch 90/200\n",
      "31/31 [==============================] - 0s 3ms/step - loss: 1687899392.0000 - val_loss: 2236482560.0000\n",
      "Epoch 91/200\n",
      "31/31 [==============================] - 0s 4ms/step - loss: 1678287616.0000 - val_loss: 2215679488.0000\n",
      "Epoch 92/200\n",
      "31/31 [==============================] - 0s 4ms/step - loss: 1672708992.0000 - val_loss: 2196201984.0000\n",
      "Epoch 93/200\n",
      "31/31 [==============================] - 0s 3ms/step - loss: 1657296512.0000 - val_loss: 2201917696.0000\n",
      "Epoch 94/200\n",
      "31/31 [==============================] - 0s 2ms/step - loss: 1650655104.0000 - val_loss: 2171827968.0000\n",
      "Epoch 95/200\n",
      "31/31 [==============================] - 0s 2ms/step - loss: 1639658880.0000 - val_loss: 2154272000.0000\n",
      "Epoch 96/200\n",
      "31/31 [==============================] - 0s 2ms/step - loss: 1629935232.0000 - val_loss: 2159620352.0000\n",
      "Epoch 97/200\n",
      "31/31 [==============================] - 0s 2ms/step - loss: 1620785152.0000 - val_loss: 2131903232.0000\n",
      "Epoch 98/200\n",
      "31/31 [==============================] - 0s 2ms/step - loss: 1610828800.0000 - val_loss: 2113820800.0000\n",
      "Epoch 99/200\n",
      "31/31 [==============================] - 0s 2ms/step - loss: 1600925568.0000 - val_loss: 2112576640.0000\n",
      "Epoch 100/200\n",
      "31/31 [==============================] - 0s 2ms/step - loss: 1593770880.0000 - val_loss: 2089791104.0000\n",
      "Epoch 101/200\n",
      "31/31 [==============================] - 0s 3ms/step - loss: 1587660032.0000 - val_loss: 2074067456.0000\n",
      "Epoch 102/200\n",
      "31/31 [==============================] - 0s 3ms/step - loss: 1576251776.0000 - val_loss: 2075207552.0000\n",
      "Epoch 103/200\n",
      "31/31 [==============================] - 0s 3ms/step - loss: 1570219648.0000 - val_loss: 2060474624.0000\n",
      "Epoch 104/200\n",
      "31/31 [==============================] - 0s 3ms/step - loss: 1562481920.0000 - val_loss: 2049434624.0000\n",
      "Epoch 105/200\n",
      "31/31 [==============================] - 0s 2ms/step - loss: 1553874560.0000 - val_loss: 2029886080.0000\n",
      "Epoch 106/200\n",
      "31/31 [==============================] - 0s 4ms/step - loss: 1548905344.0000 - val_loss: 2026349824.0000\n",
      "Epoch 107/200\n",
      "31/31 [==============================] - 0s 3ms/step - loss: 1539823232.0000 - val_loss: 2006024192.0000\n",
      "Epoch 108/200\n",
      "31/31 [==============================] - 0s 4ms/step - loss: 1533907456.0000 - val_loss: 2004688640.0000\n",
      "Epoch 109/200\n",
      "31/31 [==============================] - 0s 3ms/step - loss: 1529684608.0000 - val_loss: 1991169408.0000\n",
      "Epoch 110/200\n",
      "31/31 [==============================] - 0s 4ms/step - loss: 1520332160.0000 - val_loss: 1991390592.0000\n",
      "Epoch 111/200\n",
      "31/31 [==============================] - ETA: 0s - loss: 1511133440.00 - 0s 3ms/step - loss: 1514473856.0000 - val_loss: 1973027328.0000\n",
      "Epoch 112/200\n",
      "31/31 [==============================] - 0s 2ms/step - loss: 1508890368.0000 - val_loss: 1963785344.0000\n",
      "Epoch 113/200\n",
      "31/31 [==============================] - 0s 2ms/step - loss: 1506069888.0000 - val_loss: 1951199744.0000\n",
      "Epoch 114/200\n",
      "31/31 [==============================] - 0s 2ms/step - loss: 1498267392.0000 - val_loss: 1940019456.0000\n",
      "Epoch 115/200\n",
      "31/31 [==============================] - 0s 2ms/step - loss: 1494100096.0000 - val_loss: 1935204736.0000\n",
      "Epoch 116/200\n",
      "31/31 [==============================] - 0s 2ms/step - loss: 1486301312.0000 - val_loss: 1932605440.0000\n",
      "Epoch 117/200\n",
      "31/31 [==============================] - 0s 2ms/step - loss: 1481849344.0000 - val_loss: 1921038976.0000\n",
      "Epoch 118/200\n",
      "31/31 [==============================] - 0s 2ms/step - loss: 1478570112.0000 - val_loss: 1921080960.0000\n",
      "Epoch 119/200\n",
      "31/31 [==============================] - 0s 2ms/step - loss: 1473783680.0000 - val_loss: 1897699456.0000\n",
      "Epoch 120/200\n",
      "31/31 [==============================] - 0s 2ms/step - loss: 1467634304.0000 - val_loss: 1893553792.0000\n",
      "Epoch 121/200\n",
      "31/31 [==============================] - 0s 2ms/step - loss: 1464827392.0000 - val_loss: 1893052544.0000\n",
      "Epoch 122/200\n",
      "31/31 [==============================] - 0s 2ms/step - loss: 1460493312.0000 - val_loss: 1887028480.0000\n",
      "Epoch 123/200\n",
      "31/31 [==============================] - 0s 2ms/step - loss: 1457942784.0000 - val_loss: 1877126784.0000\n",
      "Epoch 124/200\n",
      "31/31 [==============================] - 0s 2ms/step - loss: 1454826112.0000 - val_loss: 1867883008.0000\n",
      "Epoch 125/200\n",
      "31/31 [==============================] - 0s 2ms/step - loss: 1449189888.0000 - val_loss: 1859334528.0000\n",
      "Epoch 126/200\n",
      "31/31 [==============================] - 0s 2ms/step - loss: 1448688640.0000 - val_loss: 1853757184.0000\n",
      "Epoch 127/200\n",
      "31/31 [==============================] - 0s 2ms/step - loss: 1446714112.0000 - val_loss: 1850458496.0000\n",
      "Epoch 128/200\n",
      "31/31 [==============================] - 0s 2ms/step - loss: 1440232320.0000 - val_loss: 1851527296.0000\n",
      "Epoch 129/200\n",
      "31/31 [==============================] - 0s 2ms/step - loss: 1436296576.0000 - val_loss: 1831938944.0000\n",
      "Epoch 130/200\n",
      "31/31 [==============================] - 0s 2ms/step - loss: 1432656512.0000 - val_loss: 1836940288.0000\n",
      "Epoch 131/200\n",
      "31/31 [==============================] - 0s 2ms/step - loss: 1434145280.0000 - val_loss: 1839385728.0000\n",
      "Epoch 132/200\n",
      "31/31 [==============================] - 0s 2ms/step - loss: 1426050944.0000 - val_loss: 1824514432.0000\n",
      "Epoch 133/200\n",
      "31/31 [==============================] - 0s 2ms/step - loss: 1427209472.0000 - val_loss: 1810336128.0000\n",
      "Epoch 134/200\n",
      "31/31 [==============================] - 0s 2ms/step - loss: 1419338496.0000 - val_loss: 1820322944.0000\n",
      "Epoch 135/200\n",
      "31/31 [==============================] - 0s 4ms/step - loss: 1418306432.0000 - val_loss: 1814108928.0000\n",
      "Epoch 136/200\n",
      "31/31 [==============================] - 0s 3ms/step - loss: 1416143616.0000 - val_loss: 1800657152.0000\n",
      "Epoch 137/200\n",
      "31/31 [==============================] - 0s 2ms/step - loss: 1412747008.0000 - val_loss: 1802624512.0000\n",
      "Epoch 138/200\n",
      "31/31 [==============================] - 0s 2ms/step - loss: 1413612160.0000 - val_loss: 1808977664.0000\n"
     ]
    },
    {
     "name": "stdout",
     "output_type": "stream",
     "text": [
      "Epoch 139/200\n",
      "31/31 [==============================] - 0s 3ms/step - loss: 1409007232.0000 - val_loss: 1793323008.0000\n",
      "Epoch 140/200\n",
      "31/31 [==============================] - 0s 2ms/step - loss: 1414833792.0000 - val_loss: 1788014592.0000\n",
      "Epoch 141/200\n",
      "31/31 [==============================] - 0s 2ms/step - loss: 1408827008.0000 - val_loss: 1795059712.0000\n",
      "Epoch 142/200\n",
      "31/31 [==============================] - 0s 2ms/step - loss: 1400653056.0000 - val_loss: 1778833024.0000\n",
      "Epoch 143/200\n",
      "31/31 [==============================] - 0s 2ms/step - loss: 1401461632.0000 - val_loss: 1780657280.0000\n",
      "Epoch 144/200\n",
      "31/31 [==============================] - 0s 2ms/step - loss: 1399569792.0000 - val_loss: 1776172160.0000\n",
      "Epoch 145/200\n",
      "31/31 [==============================] - 0s 2ms/step - loss: 1397301632.0000 - val_loss: 1768186112.0000\n",
      "Epoch 146/200\n",
      "31/31 [==============================] - 0s 2ms/step - loss: 1395610368.0000 - val_loss: 1763683072.0000\n",
      "Epoch 147/200\n",
      "31/31 [==============================] - 0s 2ms/step - loss: 1393460096.0000 - val_loss: 1760761600.0000\n",
      "Epoch 148/200\n",
      "31/31 [==============================] - 0s 2ms/step - loss: 1391202688.0000 - val_loss: 1755588864.0000\n",
      "Epoch 149/200\n",
      "31/31 [==============================] - 0s 2ms/step - loss: 1391108352.0000 - val_loss: 1768957184.0000\n",
      "Epoch 150/200\n",
      "31/31 [==============================] - 0s 2ms/step - loss: 1388164480.0000 - val_loss: 1750235520.0000\n",
      "Epoch 151/200\n",
      "31/31 [==============================] - 0s 2ms/step - loss: 1387838336.0000 - val_loss: 1750320128.0000\n",
      "Epoch 152/200\n",
      "31/31 [==============================] - 0s 2ms/step - loss: 1383315584.0000 - val_loss: 1756159360.0000\n",
      "Epoch 153/200\n",
      "31/31 [==============================] - 0s 2ms/step - loss: 1384383232.0000 - val_loss: 1753424256.0000\n",
      "Epoch 154/200\n",
      "31/31 [==============================] - 0s 2ms/step - loss: 1381201536.0000 - val_loss: 1743268608.0000\n",
      "Epoch 155/200\n",
      "31/31 [==============================] - 0s 2ms/step - loss: 1378892160.0000 - val_loss: 1745840000.0000\n",
      "Epoch 156/200\n",
      "31/31 [==============================] - 0s 2ms/step - loss: 1379105280.0000 - val_loss: 1731656192.0000\n",
      "Epoch 157/200\n",
      "31/31 [==============================] - 0s 2ms/step - loss: 1391436544.0000 - val_loss: 1731447936.0000\n",
      "Epoch 158/200\n",
      "31/31 [==============================] - 0s 2ms/step - loss: 1379093504.0000 - val_loss: 1723837440.0000\n",
      "Epoch 159/200\n",
      "31/31 [==============================] - 0s 2ms/step - loss: 1376117888.0000 - val_loss: 1745572992.0000\n",
      "Epoch 160/200\n",
      "31/31 [==============================] - 0s 2ms/step - loss: 1376027904.0000 - val_loss: 1727161472.0000\n",
      "Epoch 161/200\n",
      "31/31 [==============================] - 0s 2ms/step - loss: 1371696896.0000 - val_loss: 1746548352.0000\n",
      "Epoch 162/200\n",
      "31/31 [==============================] - 0s 2ms/step - loss: 1366269440.0000 - val_loss: 1719320704.0000\n",
      "Epoch 163/200\n",
      "31/31 [==============================] - 0s 3ms/step - loss: 1368656128.0000 - val_loss: 1718770432.0000\n",
      "Epoch 164/200\n",
      "31/31 [==============================] - 0s 4ms/step - loss: 1365838720.0000 - val_loss: 1731016320.0000\n",
      "Epoch 165/200\n",
      "31/31 [==============================] - 0s 3ms/step - loss: 1365583744.0000 - val_loss: 1732286848.0000\n",
      "Epoch 166/200\n",
      "31/31 [==============================] - 0s 2ms/step - loss: 1365351808.0000 - val_loss: 1720248320.0000\n",
      "Epoch 167/200\n",
      "31/31 [==============================] - 0s 2ms/step - loss: 1363809920.0000 - val_loss: 1729853056.0000\n",
      "Epoch 168/200\n",
      "31/31 [==============================] - 0s 2ms/step - loss: 1362963584.0000 - val_loss: 1711488640.0000\n",
      "Epoch 169/200\n",
      "31/31 [==============================] - 0s 2ms/step - loss: 1361332480.0000 - val_loss: 1721978624.0000\n",
      "Epoch 170/200\n",
      "31/31 [==============================] - 0s 2ms/step - loss: 1358908160.0000 - val_loss: 1717935872.0000\n",
      "Epoch 171/200\n",
      "31/31 [==============================] - 0s 2ms/step - loss: 1358171520.0000 - val_loss: 1708763136.0000\n",
      "Epoch 172/200\n",
      "31/31 [==============================] - 0s 2ms/step - loss: 1356618752.0000 - val_loss: 1715249536.0000\n",
      "Epoch 173/200\n",
      "31/31 [==============================] - 0s 2ms/step - loss: 1358281088.0000 - val_loss: 1712630144.0000\n",
      "Epoch 174/200\n",
      "31/31 [==============================] - 0s 2ms/step - loss: 1368922112.0000 - val_loss: 1711417344.0000\n",
      "Epoch 175/200\n",
      "31/31 [==============================] - 0s 2ms/step - loss: 1354622336.0000 - val_loss: 1712629248.0000\n",
      "Epoch 176/200\n",
      "31/31 [==============================] - 0s 2ms/step - loss: 1363347840.0000 - val_loss: 1692944256.0000\n",
      "Epoch 177/200\n",
      "31/31 [==============================] - 0s 2ms/step - loss: 1361824384.0000 - val_loss: 1719864320.0000\n",
      "Epoch 178/200\n",
      "31/31 [==============================] - 0s 2ms/step - loss: 1355885184.0000 - val_loss: 1714650752.0000\n",
      "Epoch 179/200\n",
      "31/31 [==============================] - 0s 2ms/step - loss: 1351936384.0000 - val_loss: 1695294464.0000\n",
      "Epoch 180/200\n",
      "31/31 [==============================] - 0s 2ms/step - loss: 1348352384.0000 - val_loss: 1693131520.0000\n",
      "Epoch 181/200\n",
      "31/31 [==============================] - 0s 2ms/step - loss: 1352253056.0000 - val_loss: 1724086400.0000\n",
      "Epoch 182/200\n",
      "31/31 [==============================] - 0s 2ms/step - loss: 1346011264.0000 - val_loss: 1697849216.0000\n",
      "Epoch 183/200\n",
      "31/31 [==============================] - 0s 2ms/step - loss: 1345783808.0000 - val_loss: 1691764096.0000\n",
      "Epoch 184/200\n",
      "31/31 [==============================] - 0s 2ms/step - loss: 1342537216.0000 - val_loss: 1697923456.0000\n",
      "Epoch 185/200\n",
      "31/31 [==============================] - 0s 2ms/step - loss: 1340179968.0000 - val_loss: 1695585536.0000\n",
      "Epoch 186/200\n",
      "31/31 [==============================] - 0s 3ms/step - loss: 1343143552.0000 - val_loss: 1688510848.0000\n",
      "Epoch 187/200\n",
      "31/31 [==============================] - 0s 4ms/step - loss: 1342355840.0000 - val_loss: 1689564288.0000\n",
      "Epoch 188/200\n",
      "31/31 [==============================] - 0s 4ms/step - loss: 1342295680.0000 - val_loss: 1689338752.0000\n",
      "Epoch 189/200\n",
      "31/31 [==============================] - 0s 3ms/step - loss: 1337395456.0000 - val_loss: 1697242368.0000\n",
      "Epoch 190/200\n",
      "31/31 [==============================] - 0s 2ms/step - loss: 1336871040.0000 - val_loss: 1683802624.0000\n",
      "Epoch 191/200\n",
      "31/31 [==============================] - 0s 2ms/step - loss: 1337195648.0000 - val_loss: 1678387584.0000\n",
      "Epoch 192/200\n",
      "31/31 [==============================] - 0s 2ms/step - loss: 1335380224.0000 - val_loss: 1705267072.0000\n",
      "Epoch 193/200\n",
      "31/31 [==============================] - 0s 2ms/step - loss: 1338118784.0000 - val_loss: 1699611136.0000\n",
      "Epoch 194/200\n",
      "31/31 [==============================] - 0s 2ms/step - loss: 1333152640.0000 - val_loss: 1680295552.0000\n",
      "Epoch 195/200\n",
      "31/31 [==============================] - 0s 2ms/step - loss: 1330308736.0000 - val_loss: 1687966848.0000\n",
      "Epoch 196/200\n",
      "31/31 [==============================] - 0s 2ms/step - loss: 1329798784.0000 - val_loss: 1685515904.0000\n",
      "Epoch 197/200\n",
      "31/31 [==============================] - 0s 2ms/step - loss: 1330371840.0000 - val_loss: 1682298368.0000\n",
      "Epoch 198/200\n",
      "31/31 [==============================] - 0s 2ms/step - loss: 1331132032.0000 - val_loss: 1679615616.0000\n",
      "Epoch 199/200\n",
      "31/31 [==============================] - 0s 2ms/step - loss: 1327232128.0000 - val_loss: 1676843264.0000\n",
      "Epoch 200/200\n",
      "31/31 [==============================] - 0s 2ms/step - loss: 1327133056.0000 - val_loss: 1672574720.0000\n"
     ]
    },
    {
     "data": {
      "text/plain": [
       "<tensorflow.python.keras.callbacks.History at 0x252c977fe50>"
      ]
     },
     "execution_count": 18,
     "metadata": {},
     "output_type": "execute_result"
    }
   ],
   "source": [
    "model.fit(X_train,y_train,epochs = 200,validation_data = (X_test,y_test),)"
   ]
  },
  {
   "cell_type": "code",
   "execution_count": 19,
   "metadata": {},
   "outputs": [
    {
     "data": {
      "text/plain": [
       "(1459, 1)"
      ]
     },
     "execution_count": 19,
     "metadata": {},
     "output_type": "execute_result"
    }
   ],
   "source": [
    "#Predicting the answers\n",
    "\n",
    "predictions = model.predict(n_test)\n",
    "predictions.shape"
   ]
  }
 ],
 "metadata": {
  "kernelspec": {
   "display_name": "Python 3",
   "language": "python",
   "name": "python3"
  },
  "language_info": {
   "codemirror_mode": {
    "name": "ipython",
    "version": 3
   },
   "file_extension": ".py",
   "mimetype": "text/x-python",
   "name": "python",
   "nbconvert_exporter": "python",
   "pygments_lexer": "ipython3",
   "version": "3.8.3"
  }
 },
 "nbformat": 4,
 "nbformat_minor": 4
}
